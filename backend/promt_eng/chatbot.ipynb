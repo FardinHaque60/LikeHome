{
 "cells": [
  {
   "cell_type": "markdown",
   "id": "3ff13a27-7664-4e78-aeb4-7c5e1a870ebd",
   "metadata": {},
   "source": [
    "### Chatbot Prompt Engineering\n",
    "\n",
    "Notebook for testing engineered prompts on LikeHome chatbot."
   ]
  },
  {
   "cell_type": "markdown",
   "id": "d53946b5-90cc-4f6d-983d-bc90fbecc396",
   "metadata": {},
   "source": [
    "#### Enter Persona\n",
    "\n",
    "Chatbot will use this for prompt to guide it through any prompt. See examples below. \n",
    "\n",
    "Add a new string to the `PERSONAS` list and run the remaining cells. Variables for `current_date` and `user_info` are also available to help user craft responses."
   ]
  },
  {
   "cell_type": "code",
   "execution_count": null,
   "id": "22d99b20-884e-4a82-a521-0619e36b0664",
   "metadata": {},
   "outputs": [],
   "source": [
    "from datetime import date\n",
    "\n",
    "current_date = date.today()\n",
    "\n",
    "# fake user details to test account retrieval ability\n",
    "user_info = '''{\n",
    "\"name\": \"Bob Jones\",\n",
    "\"reward_points\": 50,\n",
    "\"email\": bobjones@hotmail.com,\n",
    "}'''\n",
    "\n",
    "PERSONAS: list = [\n",
    "# prompt 0\n",
    "# does not work well when user asks question after confirming a hotel, chatbot marks confirmation still as true\n",
    "# has trouble with date, can't find date when asked \"book for next weekend\" for example\n",
    "f'''Your name is Nexus and you are tasked with answering user queries for a hotel booking website.\n",
    "The date today is {current_date} for reference.\n",
    "\n",
    "Users will prompt you with hotel information and you will parse their query to extract the information in the response. \n",
    "If they do not include enough information for you to determine a field's value default it to empty string.\n",
    "In the response field create a message that asks for any remaining fields. \n",
    "If you have all the fields confirm with the user to start the search process, \n",
    "DO NOT mark user completion until you have received their explicit confirmation.\n",
    "If they ask a unrelated question, politely respond shortly but remind them to confirm hotel search. \n",
    "\n",
    "Here is all the information on the users account if they ask about it: {user_info}''',\n",
    "\n",
    "# prompt 1, works consistency with most situations\n",
    "f'''Your name is Nexus and you are a chatbot for a hotel reservation website called LikeHome.\n",
    "The date today is {current_date} for reference.\n",
    "\n",
    "Respond to users if they ask about hotels or their account. Parse their queries to extract field details. \n",
    "In the response field create a message that asks for any fields you do not have enough information on. \n",
    "If you have all the fields confirm with the user to start adding hotels matching their criteria to their watchlist, \n",
    "DO NOT mark user completion until you have received their explicit confirmation.\n",
    "MAKE SURE to reset user confirmation and hotel fields once you have received confirmation and added hotels to watchlist.\n",
    "If they ask an unrelated question, politely respond shortly but remind them to confirm hotel search. \n",
    "\n",
    "Here is all the information on the users account if they ask about it: {user_info}''',\n",
    "\n",
    "# TODO add additional prompts to test\n",
    "]"
   ]
  },
  {
   "cell_type": "markdown",
   "id": "ad038de1-066a-4ded-a957-e9ea2eef4e45",
   "metadata": {},
   "source": [
    "#### Set-Up\n",
    "\n",
    "Run the below cells to set up chat gpt requests."
   ]
  },
  {
   "cell_type": "code",
   "execution_count": null,
   "id": "63c040bd-919f-4241-9e4f-a3942643ad7c",
   "metadata": {},
   "outputs": [],
   "source": [
    "from openai import OpenAI\n",
    "import numpy as np\n",
    "import pandas as pd\n",
    "from IPython.display import display\n",
    "from pydantic import BaseModel\n",
    "import json\n",
    "\n",
    "convos = []\n",
    "for persona in PERSONAS:\n",
    "    convos.append([{\"role\": \"system\", \"content\": persona}])\n",
    "\n",
    "client = OpenAI()\n",
    "\n",
    "# define JSON format for model base outputs\n",
    "class SearchFilter(BaseModel):\n",
    "    location: str\n",
    "    check_in: str\n",
    "    check_out: str\n",
    "    rooms: int\n",
    "    adults: int\n",
    "    children: int\n",
    "    radius: int\n",
    "    min_price: int\n",
    "    max_price: int\n",
    "    response: str\n",
    "    user_search_confirmation: bool\n",
    "\n",
    "def hotel_chat(messages: list):\n",
    "    completion = client.beta.chat.completions.parse(\n",
    "        model=\"gpt-4o-2024-08-06\",\n",
    "        messages=messages,\n",
    "        response_format=SearchFilter,\n",
    "        temperature=0.2,\n",
    "    )\n",
    "    messages.append({\"role\": \"assistant\", \"content\": completion.choices[0].message.content})\n",
    "\n",
    "    return json.dumps(json.loads(completion.choices[0].message.content), indent=4)\n",
    "\n",
    "def main():\n",
    "    global convos\n",
    "    while (True):\n",
    "        count = 0\n",
    "        user_prompt = input(\"Your a prompt: \")\n",
    "        if user_prompt == \"quit\":\n",
    "            print(\"chat ended\")\n",
    "            break\n",
    "        for convo in convos:\n",
    "            convo.append({\"role\": \"user\", \"content\": user_prompt})\n",
    "            print(\"-------------------------------\")\n",
    "            print(\"Using PERSONA at index %d\" % count) \n",
    "            print(hotel_chat(convo))\n",
    "            count += 1\n",
    "        print(f'''-------------------------------\\n''')"
   ]
  },
  {
   "cell_type": "markdown",
   "id": "056e6259-e8e6-47d8-9ff5-3d861ab28e83",
   "metadata": {},
   "source": [
    "#### Run the chatbot\n",
    "\n",
    "Run the below cell to test the chatbot. It will prompt u to enter a prompt. Enter **quit** to end the chat.\n",
    "\n",
    "Chatbot will respond in following format:\n",
    "```\n",
    "{\n",
    "    \"location\": \"\",\n",
    "    \"check_in\": \"\",\n",
    "    \"check_out\": \"\",\n",
    "    \"rooms\": 0,\n",
    "    \"adults\": 0,\n",
    "    \"children\": 0,\n",
    "    \"radius\": 0,\n",
    "    \"min_price\": 0,\n",
    "    \"max_price\": 0,\n",
    "    \"response\": \"response\",\n",
    "    \"user_search_confirmation\": false\n",
    "}\n",
    "```\n",
    "\n",
    "look at the `response` field and evaluate how well it is doing, this is verbatim what the user will see when prompting the chatbot. Also ensure `user_confirmation` is only set to true when all fields look accurate. Once `user_confirmation` is true it will trigger creating a watchlist item in the actual app, so we want to make sure we don't do this prematurely."
   ]
  },
  {
   "cell_type": "code",
   "execution_count": null,
   "id": "673dda1f-4ef5-4089-bd55-f77f1eedc46b",
   "metadata": {},
   "outputs": [],
   "source": [
    "main()"
   ]
  }
 ],
 "metadata": {
  "kernelspec": {
   "display_name": "Python 3 (ipykernel)",
   "language": "python",
   "name": "python3"
  },
  "language_info": {
   "codemirror_mode": {
    "name": "ipython",
    "version": 3
   },
   "file_extension": ".py",
   "mimetype": "text/x-python",
   "name": "python",
   "nbconvert_exporter": "python",
   "pygments_lexer": "ipython3",
   "version": "3.12.7"
  }
 },
 "nbformat": 4,
 "nbformat_minor": 5
}
